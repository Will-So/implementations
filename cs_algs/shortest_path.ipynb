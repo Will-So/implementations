{
 "cells": [
  {
   "cell_type": "code",
   "execution_count": 14,
   "metadata": {
    "collapsed": false,
    "scrolled": true
   },
   "outputs": [
    {
     "name": "stdout",
     "output_type": "stream",
     "text": [
      "Populating the interactive namespace from numpy and matplotlib\n"
     ]
    }
   ],
   "source": [
    "import networkx as nx\n",
    "%pylab inline"
   ]
  },
  {
   "cell_type": "code",
   "execution_count": 94,
   "metadata": {
    "collapsed": true
   },
   "outputs": [],
   "source": [
    "G = nx.DiGraph()"
   ]
  },
  {
   "cell_type": "code",
   "execution_count": 157,
   "metadata": {
    "collapsed": true
   },
   "outputs": [],
   "source": [
    "G.add_edge('a','b',weight=0.6)\n",
    "G.add_edge('a','c',weight=0.2)\n",
    "G.add_edge('b','d',weight=0.1)\n",
    "G.add_edge('b','e',weight=0.7)\n",
    "G.add_edge('e','f',weight=0.9)\n",
    "G.add_edge('c','d',weight=0.3)\n",
    "G.add_edge('b','f',weight=2)\n",
    "G.add_edge('d', 'f', weight=-0.2)\n",
    "\n",
    "# G.add_edge('d','f',weight=0.2)\n",
    "\n"
   ]
  },
  {
   "cell_type": "code",
   "execution_count": 96,
   "metadata": {
    "collapsed": false
   },
   "outputs": [],
   "source": [
    "pos= nx.spring_layout(G) # positions for all nodes\n",
    "\n",
    "pos['a'] = np.array([0, 1])\n",
    "pos['f']  = np.array([1,0])"
   ]
  },
  {
   "cell_type": "code",
   "execution_count": 97,
   "metadata": {
    "collapsed": false
   },
   "outputs": [
    {
     "data": {
      "text/plain": [
       "['c', 'b', 'f', 'a', 'e', 'd']"
      ]
     },
     "execution_count": 97,
     "metadata": {},
     "output_type": "execute_result"
    }
   ],
   "source": [
    "G.nodes()"
   ]
  },
  {
   "cell_type": "code",
   "execution_count": 86,
   "metadata": {
    "collapsed": false,
    "scrolled": true
   },
   "outputs": [
    {
     "data": {
      "text/plain": [
       "[('c', 'd'),\n",
       " ('b', 'f'),\n",
       " ('b', 'e'),\n",
       " ('b', 'd'),\n",
       " ('a', 'b'),\n",
       " ('a', 'c'),\n",
       " ('e', 'f'),\n",
       " ('d', 'f')]"
      ]
     },
     "execution_count": 86,
     "metadata": {},
     "output_type": "execute_result"
    }
   ],
   "source": [
    "G.edges()"
   ]
  },
  {
   "cell_type": "code",
   "execution_count": 149,
   "metadata": {
    "collapsed": false,
    "scrolled": false
   },
   "outputs": [
    {
     "data": {
      "image/png": "[encoded data removed]",
      "text/plain": [
       "<matplotlib.figure.Figure at 0x10e3ba240>"
      ]
     },
     "metadata": {},
     "output_type": "display_data"
    }
   ],
   "source": [
    "plt.axis('off')\n",
    "nx.draw_networkx_nodes(G,pos,node_size=700)\n",
    "\n",
    "# edges\n",
    "nx.draw_networkx_edges(G,pos)\n",
    "nx.draw_networkx_edges(G,pos, alpha=0.5,edge_color='b',style='dashed')\n",
    "\n",
    "# labels\n",
    "nx.draw_networkx_labels(G,pos,font_size=20,font_family='sans-serif');\n"
   ]
  },
  {
   "cell_type": "code",
   "execution_count": 158,
   "metadata": {
    "collapsed": true
   },
   "outputs": [],
   "source": [
    "def belman_ford(G, source = 'a', sink = 'f'):\n",
    "    \"\"\"\n",
    "    vertices: list of vertices\n",
    "    edges: list of edges with accompanying weights\n",
    "    source: Starting point for the graph\n",
    "    \"\"\"\n",
    "\n",
    "    distance = {}\n",
    "    vertices = [source] + [i for i in G.nodes() if i != source] ## need to make sure that the source is first\n",
    "    \n",
    "    ## Iterate through the nodes\n",
    "    for v in G.nodes():\n",
    "        distance[v] = np.inf\n",
    "    \n",
    "    #import pdb; pdb.set_trace()\n",
    "    distance[source] = 0 ## The weight is 0 to the source\n",
    "    \n",
    "    for v in vertices:\n",
    "        for edge in G[v]:\n",
    "            distance[edge] = min(distance[v] + G[v][edge]['weight'], distance[edge])\n",
    "            \n",
    "    return distance[sink]\n",
    "            "
   ]
  },
  {
   "cell_type": "code",
   "execution_count": 159,
   "metadata": {
    "collapsed": false,
    "scrolled": true
   },
   "outputs": [
    {
     "data": {
      "text/plain": [
       "0.3"
      ]
     },
     "execution_count": 159,
     "metadata": {},
     "output_type": "execute_result"
    }
   ],
   "source": [
    "belman_ford(G)"
   ]
  },
  {
   "cell_type": "code",
   "execution_count": 98,
   "metadata": {
    "collapsed": true
   },
   "outputs": [],
   "source": [
    "vertices = G.nodes()\n",
    "edges = G.edges()"
   ]
  },
  {
   "cell_type": "code",
   "execution_count": 116,
   "metadata": {
    "collapsed": false
   },
   "outputs": [
    {
     "data": {
      "text/plain": [
       "['c', 'b', 'f', 'a', 'e', 'd']"
      ]
     },
     "execution_count": 116,
     "metadata": {},
     "output_type": "execute_result"
    }
   ],
   "source": [
    "G.nodes()"
   ]
  },
  {
   "cell_type": "code",
   "execution_count": 114,
   "metadata": {
    "collapsed": false
   },
   "outputs": [
    {
     "data": {
      "text/plain": [
       "{'b': {'weight': 0.6}, 'c': {'weight': 0.2}}"
      ]
     },
     "execution_count": 114,
     "metadata": {},
     "output_type": "execute_result"
    }
   ],
   "source": [
    "G['a']"
   ]
  },
  {
   "cell_type": "code",
   "execution_count": 115,
   "metadata": {
    "collapsed": false
   },
   "outputs": [
    {
     "data": {
      "text/plain": [
       "0.6"
      ]
     },
     "execution_count": 115,
     "metadata": {},
     "output_type": "execute_result"
    }
   ],
   "source": [
    "G['a']['b']['weight']"
   ]
  }
 ],
 "metadata": {
  "_draft": {
   "nbviewer_url": "https://gist.github.com/db43bb25e615ef9c332f4c1716371dd5"
  },
  "gist": {
   "data": {
    "description": "dag_startercode",
    "public": false
   },
   "id": "db43bb25e615ef9c332f4c1716371dd5"
  },
  "kernelspec": {
   "display_name": "Python 3",
   "language": "python",
   "name": "python3"
  },
  "language_info": {
   "codemirror_mode": {
    "name": "ipython",
    "version": 3
   },
   "file_extension": ".py",
   "mimetype": "text/x-python",
   "name": "python",
   "nbconvert_exporter": "python",
   "pygments_lexer": "ipython3",
   "version": "3.5.2"
  }
 },
 "nbformat": 4,
 "nbformat_minor": 0
}
