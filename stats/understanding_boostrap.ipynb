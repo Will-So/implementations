{
 "cells": [
  {
   "cell_type": "markdown",
   "metadata": {},
   "source": [
    "# Why Bootstrapping Works"
   ]
  },
  {
   "cell_type": "markdown",
   "metadata": {},
   "source": [
    "Statistical Bootstrapping (not to be confused with Twitter Bootstrap) is a power tool is used in a variety of popular statistical and machine learning techniques. For example, an important reason why Random Forests are so difficult to overfit is because each tree is trained on a *bootstrapped* sample. Here I describe why it works.\n",
    "\n",
    "Note: This blog post has an accompanying Jupyter Notebook as well as Appendix."
   ]
  },
  {
   "cell_type": "markdown",
   "metadata": {},
   "source": [
    "# A motivating Example: Returns on Education"
   ]
  },
  {
   "cell_type": "markdown",
   "metadata": {},
   "source": [
    "Fei is a researcher trying to estimate the effect of years of education on income. She comes up with a model like this:\n",
    "\n",
    "$$ Income_i = \\beta_0 + \\beta_1 education\\_years_i + \\boldsymbol{\\beta} \\bf other\\_covariates_i + \\epsilon_i $$\n",
    "\n",
    "Where other covariates are other things that Fei thinks may be important in determining income (e.g., education of parents) and $\\epsilon$ is an error term that is Gaussian. \n",
    "\n",
    "There's a problem though, she doesn't have the data! After trying to convince the university to fund inevitably failed, she moved on to "
   ]
  },
  {
   "cell_type": "markdown",
   "metadata": {},
   "source": [
    "# Resources"
   ]
  },
  {
   "cell_type": "markdown",
   "metadata": {},
   "source": [
    "- [Good Paper Explaining the Intuition Behind Bootstrap](http://www4.ncsu.edu/~rghammon/workshop/S16_FKN.pdf).\n"
   ]
  },
  {
   "cell_type": "code",
   "execution_count": 3,
   "metadata": {
    "ExecuteTime": {
     "end_time": "2016-09-17T10:54:10.763625",
     "start_time": "2016-09-17T10:54:10.761124"
    },
    "collapsed": false
   },
   "outputs": [],
   "source": [
    "import sys\n",
    "sys.path.append('.')"
   ]
  },
  {
   "cell_type": "code",
   "execution_count": null,
   "metadata": {
    "collapsed": true
   },
   "outputs": [],
   "source": []
  }
 ],
 "metadata": {
  "kernelspec": {
   "display_name": "Python 3",
   "language": "python",
   "name": "python3"
  },
  "language_info": {
   "codemirror_mode": {
    "name": "ipython",
    "version": 3
   },
   "file_extension": ".py",
   "mimetype": "text/x-python",
   "name": "python",
   "nbconvert_exporter": "python",
   "pygments_lexer": "ipython3",
   "version": "3.5.2"
  },
  "nav_menu": {},
  "toc": {
   "navigate_menu": true,
   "number_sections": false,
   "sideBar": true,
   "threshold": 6,
   "toc_cell": false,
   "toc_section_display": "block",
   "toc_window_display": false
  }
 },
 "nbformat": 4,
 "nbformat_minor": 0
}
